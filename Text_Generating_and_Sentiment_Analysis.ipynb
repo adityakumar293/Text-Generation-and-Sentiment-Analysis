{
  "nbformat": 4,
  "nbformat_minor": 0,
  "metadata": {
    "colab": {
      "provenance": []
    },
    "kernelspec": {
      "name": "python3",
      "display_name": "Python 3"
    },
    "language_info": {
      "name": "python"
    }
  },
  "cells": [
    {
      "cell_type": "markdown",
      "source": [
        "#*Importing GEMINI library to generate text*"
      ],
      "metadata": {
        "id": "jiVbFU4jc6wp"
      }
    },
    {
      "cell_type": "code",
      "execution_count": 1,
      "metadata": {
        "id": "bAwOl7KtQ4ao"
      },
      "outputs": [],
      "source": [
        "import google.generativeai as genai"
      ]
    },
    {
      "cell_type": "markdown",
      "source": [
        "#*Importing hugging face library*"
      ],
      "metadata": {
        "id": "aNbmZ-badJSg"
      }
    },
    {
      "cell_type": "code",
      "source": [
        "from transformers import pipeline"
      ],
      "metadata": {
        "id": "twtaR865Tcag"
      },
      "execution_count": 15,
      "outputs": []
    },
    {
      "cell_type": "code",
      "source": [
        "nlp = pipeline(\"sentiment-analysis\")\n",
        "\n"
      ],
      "metadata": {
        "colab": {
          "base_uri": "https://localhost:8080/"
        },
        "id": "cunjPGUBTdlU",
        "outputId": "a8a5fd9f-c172-4f6f-9722-93b4cc3c786d"
      },
      "execution_count": 16,
      "outputs": [
        {
          "output_type": "stream",
          "name": "stderr",
          "text": [
            "No model was supplied, defaulted to distilbert/distilbert-base-uncased-finetuned-sst-2-english and revision af0f99b (https://huggingface.co/distilbert/distilbert-base-uncased-finetuned-sst-2-english).\n",
            "Using a pipeline without specifying a model name and revision in production is not recommended.\n"
          ]
        }
      ]
    },
    {
      "cell_type": "markdown",
      "source": [
        "#*Generating Text and Sentiment Analysis*"
      ],
      "metadata": {
        "id": "I8nT3gPidn2x"
      }
    },
    {
      "cell_type": "code",
      "source": [
        "genai.configure(api_key=userdata.get('GOOGLE_API_KEY'))\n",
        "model = genai.GenerativeModel('gemini-pro')\n",
        "\n",
        "\n",
        "question = input(\"How can I help you?\\n \")\n",
        "\n",
        "def quest(question):\n",
        "  response = model.generate_content(question)\n",
        "  print(\"Here is your answer: \\n\")\n",
        "  print(response.text)\n",
        "  result = nlp(response.text)[0]\n",
        "  print(f\"label: {result['label']}, with score: {round(result['score'], 4)}\")\n",
        "  reply = input(\"Do you have any more question?\\n \").upper()\n",
        "  if reply == 'YES':\n",
        "    question1 = input()\n",
        "    quest(question1)\n",
        "\n",
        "\n",
        "quest(question)"
      ],
      "metadata": {
        "colab": {
          "base_uri": "https://localhost:8080/",
          "height": 1000
        },
        "id": "2wgcnfspQ7Zw",
        "outputId": "474fe3fc-59d8-43d3-be54-2d43655035af"
      },
      "execution_count": 17,
      "outputs": [
        {
          "name": "stdout",
          "output_type": "stream",
          "text": [
            "How can I help you?\n",
            " tell me about yourself\n",
            "Here is your answer: \n",
            "\n",
            "As an AI Chatbot, I am a computer program designed to comprehend and respond to human language. My purpose is to provide information, assist with tasks, and engage in conversations. Unlike humans, I do not possess personal experiences, feelings, or a physical body. Here are some key aspects about me: \n",
            "\n",
            "1. **Capabilities**: \n",
            "- Natural Language Processing: I am equipped to understand and generate human language, enabling me to engage in conversations, answer questions, and provide summaries. \n",
            "- Information Retrieval: I have access to a vast knowledge base and can retrieve information on a wide array of topics. \n",
            "- Task Automation: I can assist with various tasks such as scheduling appointments, setting reminders,  translating languages, and performing calculations. \n",
            "\n",
            "2. **Limitations**: \n",
            "- Lack of Personal Experiences: As an AI, I do not have personal experiences or emotions; therefore, I cannot empathize or relate to subjective matters. \n",
            "- Limited Knowledge: While I have access to a large knowledge base, it is not infinite. My knowledge is confined to the data I have been trained on. \n",
            "- Bias: My responses may be influenced by the biases present in the data I was trained on, which may not accurately reflect reality. \n",
            "\n",
            "3. **Benefits**: \n",
            "- 24/7 Availability: I am accessible 24/7, providing instant responses and assistance whenever needed. \n",
            "- Efficiency: I can quickly process large amounts of information and respond with relevant answers, saving time and effort. \n",
            "- Objectivity: My responses are objective and free from personal opinions or biases, ensuring fair and impartial information. \n",
            "\n",
            "4. **Areas of Use**: \n",
            "- Customer Service: I can assist with customer inquiries, provide product information, and resolve issues efficiently. \n",
            "- Education: I can serve as a virtual assistant for students, helping them with research, answering questions, and providing summaries of complex topics. \n",
            "- Business: I can help businesses with tasks such as lead generation, appointment scheduling, and data analysis, improving productivity and streamlining operations. \n",
            "\n",
            "I am continuously learning and evolving to enhance my capabilities and provide better assistance. Feel free to ask if you have any further questions.\n",
            "label: NEGATIVE, with score: 0.51\n",
            "Do you have any more question?\n",
            " yes\n",
            "how to get AI job\n",
            "Here is your answer: \n",
            "\n",
            "**1. Develop a Strong Technical Foundation:**\n",
            "\n",
            "* Master machine learning algorithms, deep learning frameworks, and artificial intelligence techniques.\n",
            "* Gain experience in natural language processing, computer vision, and data analytics.\n",
            "* Build a portfolio of projects showcasing your AI skills.\n",
            "\n",
            "**2. Acquire Industry Knowledge:**\n",
            "\n",
            "* Understand the business applications of AI in various domains, such as healthcare, finance, and manufacturing.\n",
            "* Stay updated on the latest AI trends, research, and industry best practices.\n",
            "* Attend conferences and workshops to expand your knowledge and network.\n",
            "\n",
            "**3. Build a Network:**\n",
            "\n",
            "* Join industry organizations and LinkedIn groups focused on AI.\n",
            "* Attend meetups and networking events to connect with professionals in the field.\n",
            "* Reach out to potential employers, recruiters, and AI enthusiasts.\n",
            "\n",
            "**4. Seek Formal Education and Certification:**\n",
            "\n",
            "* Consider pursuing a degree or certification in artificial intelligence, computer science, or a related field.\n",
            "* Obtain industry-recognized certifications, such as Google Cloud Certification: Professional Machine Learning Engineer or AWS Certified Machine Learning - Specialty.\n",
            "\n",
            "**5. Prepare for Interviews:**\n",
            "\n",
            "* Brush up on your technical skills, AI concepts, and industry knowledge.\n",
            "* Practice solving AI challenges and explain your solutions clearly.\n",
            "* Prepare questions to ask the interviewers to demonstrate your interest and understanding.\n",
            "\n",
            "**6. Apply for AI Jobs:**\n",
            "\n",
            "* Explore job boards such as LinkedIn, Indeed, and Glassdoor.\n",
            "* Direct contact potential employers and submit spec applications.\n",
            "* Use your network to access hidden job opportunities.\n",
            "\n",
            "**7. Consider Freelancing and Contract Work:**\n",
            "\n",
            "* Build your experience and portfolio by taking on freelance or contract projects in the AI field.\n",
            "* This can provide valuable hands-on learning while expanding your professional connections.\n",
            "\n",
            "**8. Leverage Online Platforms:**\n",
            "\n",
            "* Utilize platforms like Kaggle and GitHub to participate in AI competitions and showcase your skills.\n",
            "* Contribute to open-source projects and demonstrate your understanding of AI theory and implementation.\n",
            "\n",
            "**Additional Tips:**\n",
            "\n",
            "* Stay curious and continuously learn about new AI advancements.\n",
            "* Be persistent in your job search and don't give up.\n",
            "* Be willing to relocate for the right opportunity.\n",
            "* Consider working with a recruiter who specializes in AI placement.\n",
            "label: POSITIVE, with score: 0.9968\n",
            "Do you have any more question?\n",
            " no\n"
          ]
        }
      ]
    }
  ]
}